{
 "cells": [
  {
   "cell_type": "markdown",
   "id": "01e4b334",
   "metadata": {},
   "source": [
    "# （？）可显示概要 （？？）显示源代码"
   ]
  },
  {
   "cell_type": "code",
   "execution_count": 15,
   "id": "2f1eed88",
   "metadata": {},
   "outputs": [
    {
     "name": "stdout",
     "output_type": "stream",
     "text": [
      "\u001b[1;31mType:\u001b[0m        list\n",
      "\u001b[1;31mString form:\u001b[0m [1, 2, 3]\n",
      "\u001b[1;31mLength:\u001b[0m      3\n",
      "\u001b[1;31mDocstring:\u001b[0m  \n",
      "Built-in mutable sequence.\n",
      "\n",
      "If no argument is given, the constructor creates a new empty list.\n",
      "The argument must be an iterable if specified.\n"
     ]
    }
   ],
   "source": [
    "b = [1,2,3]\n",
    "b?"
   ]
  },
  {
   "cell_type": "code",
   "execution_count": 5,
   "id": "ded3acdb",
   "metadata": {},
   "outputs": [],
   "source": [
    "def f():\n",
    "    '''print\n",
    "    输出1'''\n",
    "    print(1)"
   ]
  },
  {
   "cell_type": "code",
   "execution_count": 6,
   "id": "efabeb51",
   "metadata": {},
   "outputs": [
    {
     "name": "stdout",
     "output_type": "stream",
     "text": [
      "\u001b[1;31mSignature:\u001b[0m \u001b[0mf\u001b[0m\u001b[1;33m(\u001b[0m\u001b[1;33m)\u001b[0m\u001b[1;33m\u001b[0m\u001b[1;33m\u001b[0m\u001b[0m\n",
      "\u001b[1;31mDocstring:\u001b[0m\n",
      "print\n",
      "输出1\n",
      "\u001b[1;31mFile:\u001b[0m      c:\\users\\sheng\\appdata\\local\\temp\\ipykernel_20496\\117189518.py\n",
      "\u001b[1;31mType:\u001b[0m      function\n"
     ]
    }
   ],
   "source": [
    "f? #显示注释"
   ]
  },
  {
   "cell_type": "code",
   "execution_count": 7,
   "id": "3fec6a2f",
   "metadata": {},
   "outputs": [
    {
     "name": "stdout",
     "output_type": "stream",
     "text": [
      "\u001b[1;31mSignature:\u001b[0m \u001b[0mf\u001b[0m\u001b[1;33m(\u001b[0m\u001b[1;33m)\u001b[0m\u001b[1;33m\u001b[0m\u001b[1;33m\u001b[0m\u001b[0m\n",
      "\u001b[1;31mSource:\u001b[0m   \n",
      "\u001b[1;32mdef\u001b[0m \u001b[0mf\u001b[0m\u001b[1;33m(\u001b[0m\u001b[1;33m)\u001b[0m\u001b[1;33m:\u001b[0m\u001b[1;33m\n",
      "\u001b[0m    \u001b[1;34m'''print\n",
      "    输出1'''\u001b[0m\u001b[1;33m\n",
      "\u001b[0m    \u001b[0mprint\u001b[0m\u001b[1;33m(\u001b[0m\u001b[1;36m1\u001b[0m\u001b[1;33m)\u001b[0m\u001b[1;33m\u001b[0m\u001b[1;33m\u001b[0m\u001b[0m\n",
      "\u001b[1;31mFile:\u001b[0m      c:\\users\\sheng\\appdata\\local\\temp\\ipykernel_20496\\117189518.py\n",
      "\u001b[1;31mType:\u001b[0m      function\n"
     ]
    }
   ],
   "source": [
    "f?? #显示代码"
   ]
  },
  {
   "cell_type": "markdown",
   "id": "707be50f",
   "metadata": {},
   "source": [
    "# py文件执行，导入"
   ]
  },
  {
   "cell_type": "code",
   "execution_count": 20,
   "id": "1e64b8b1",
   "metadata": {},
   "outputs": [
    {
     "name": "stdout",
     "output_type": "stream",
     "text": [
      "1\n"
     ]
    },
    {
     "name": "stdout",
     "output_type": "stream",
     "text": [
      "\u001b[1;31mType:\u001b[0m        int\n",
      "\u001b[1;31mString form:\u001b[0m 1\n",
      "\u001b[1;31mDocstring:\u001b[0m  \n",
      "int([x]) -> integer\n",
      "int(x, base=10) -> integer\n",
      "\n",
      "Convert a number or string to an integer, or return 0 if no arguments\n",
      "are given.  If x is a number, return x.__int__().  For floating point\n",
      "numbers, this truncates towards zero.\n",
      "\n",
      "If x is not a number or if base is given, then x must be a string,\n",
      "bytes, or bytearray instance representing an integer literal in the\n",
      "given base.  The literal can be preceded by '+' or '-' and be surrounded\n",
      "by whitespace.  The base defaults to 10.  Valid bases are 0 and 2-36.\n",
      "Base 0 means to interpret the base from the string as an integer literal.\n",
      ">>> int('0b100', base=0)\n",
      "4\n"
     ]
    }
   ],
   "source": [
    "%run ava=1.py\n",
    "ava?\n",
    "#变量值也会导入"
   ]
  },
  {
   "cell_type": "code",
   "execution_count": 21,
   "id": "8626c159",
   "metadata": {},
   "outputs": [],
   "source": [
    "# %load ava=1.py\n",
    "#导入代码到此单元格\n",
    "ava = 1\n",
    "print(ava)"
   ]
  },
  {
   "cell_type": "markdown",
   "id": "0ab37293",
   "metadata": {},
   "source": [
    "# matplot 显示"
   ]
  },
  {
   "cell_type": "code",
   "execution_count": 22,
   "id": "5db03b48",
   "metadata": {},
   "outputs": [],
   "source": [
    "%matplotlib inline  \n",
    "# 可在notebook里显示图"
   ]
  },
  {
   "cell_type": "markdown",
   "id": "0bc9ff1e",
   "metadata": {},
   "source": [
    "# 判断属性函数"
   ]
  },
  {
   "cell_type": "code",
   "execution_count": 24,
   "id": "03f85379",
   "metadata": {},
   "outputs": [
    {
     "data": {
      "text/plain": [
       "True"
      ]
     },
     "execution_count": 24,
     "metadata": {},
     "output_type": "execute_result"
    }
   ],
   "source": [
    "a = 5\n",
    "isinstance(a,(float,int))"
   ]
  },
  {
   "cell_type": "code",
   "execution_count": 28,
   "id": "c9973fdd",
   "metadata": {},
   "outputs": [
    {
     "name": "stdout",
     "output_type": "stream",
     "text": [
      "1\n",
      "2\n",
      "3\n",
      "4\n"
     ]
    }
   ],
   "source": [
    "a = '1234'\n",
    "for i in iter(a):\n",
    "    print(i)"
   ]
  },
  {
   "cell_type": "code",
   "execution_count": null,
   "id": "4f51a670",
   "metadata": {},
   "outputs": [],
   "source": []
  }
 ],
 "metadata": {
  "kernelspec": {
   "display_name": "Python 3.9.7 ('base')",
   "language": "python",
   "name": "python3"
  },
  "language_info": {
   "codemirror_mode": {
    "name": "ipython",
    "version": 3
   },
   "file_extension": ".py",
   "mimetype": "text/x-python",
   "name": "python",
   "nbconvert_exporter": "python",
   "pygments_lexer": "ipython3",
   "version": "3.9.7"
  },
  "vscode": {
   "interpreter": {
    "hash": "521169d082a0d54c0d33c5454a578570f88629b843ef6aa03a6afb5627d4f324"
   }
  }
 },
 "nbformat": 4,
 "nbformat_minor": 5
}
